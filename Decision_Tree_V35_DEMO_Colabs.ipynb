{
  "nbformat": 4,
  "nbformat_minor": 0,
  "metadata": {
    "colab": {
      "name": "Decision_Tree_V34_DEMO_Colabs.ipynb",
      "provenance": [],
      "collapsed_sections": []
    },
    "kernelspec": {
      "name": "python3",
      "display_name": "Python 3"
    }
  },
  "cells": [
    {
      "cell_type": "markdown",
      "metadata": {
        "id": "CP1NKECIlsOH",
        "colab_type": "text"
      },
      "source": [
        "[![Open In Colab](https://colab.research.google.com/assets/colab-badge.svg)](https://colab.research.google.com/github/googlecolab/colabtools/blob/master/notebooks/colab-github-demo.ipynb)"
      ]
    },
    {
      "cell_type": "markdown",
      "metadata": {
        "id": "o7DsY44Bvla4",
        "colab_type": "text"
      },
      "source": [
        "# How to Make Classifications using Decision Trees\n",
        "\n",
        "### A Team Project to:\n",
        "* Discover how to use Machine Learning software to build Decision Trees \n",
        "* Experiment with the effects of changinging parameters(hyper parameters) for Machine Learning\n",
        "* Evaluate the quality of automatically generated decision trees    \n",
        "\n",
        "\n",
        "\n"
      ]
    },
    {
      "cell_type": "code",
      "metadata": {
        "id": "3RYUC50U_O15",
        "colab_type": "code",
        "cellView": "form",
        "colab": {}
      },
      "source": [
        "#@title # Assigning Roles and Responsibilities within each group\n",
        "\n",
        "#@markdown ---\n",
        "#@markdown ### Enter Instructor Name:\n",
        "Instructor_Name = \"\" #@param {type:\"string\"}\n",
        "#@markdown 1. Introduces activities. Assigns roles to participants.\n",
        "#@markdown 2. Responds for help or clarification request.\n",
        "#@markdown 3. Collects the Jupiter notebooks from Recorder and Evaluator\n",
        "#@markdown ---\n",
        "\n",
        "#@markdown ### Enter Facilitator Name:\n",
        "Facilitator_Name = \"\" #@param {type:\"string\"} \n",
        "#@markdown 1.\tReads aloud each question and ask for volunteers to answer. If there is no volunteer then he/she starts the discussion and asks one participant after another for comments, solutions, answers, or clarifications.  When majority participants agree then she/he asks Recorder to record the answer. Also coordinates discussion about the code execution and the output like any other question.   \n",
        "#@markdown 2.\tInvolves each participant equally in the discussions.    \n",
        "#@markdown 3.\tTurn the coordinating role to Evaluator after finishing each activity.   \n",
        "#@markdown 4.\tCoordinates Zoom screen access. Displays his/her screen when asking questions. Gives access to screen sharing as requested    \n",
        "#@markdown ---\n",
        "\n",
        "#@markdown ### Enter Recorder Name:\n",
        "Recorder_Name = \"\" #@param {type:\"string\"} \n",
        "#@markdown 1.\tRecords all answers  for each question  inside the Jupiter Notebook   \n",
        "#@markdown 2. Use \"Run al\" in menu \"Runtime\" and then \"Save\" Jupiter Workbook with all answers and results.\n",
        "#@markdown 3. Submit Jupiter notebook with all answers and results of the running code.\n",
        "#@markdown ---\n",
        "\n",
        "#@markdown ### Enter Evaluator Name:\n",
        "Evaluator_Name = \"\" #@param {type:\"string\"} \n",
        "  \n",
        "#@markdown 1.\tKeeps track of time for each designated Activity.   \n",
        "#@markdown 2.\tAfter each activity leads the discussion about material and collects feedback in the form of the table below.   \n",
        "#@markdown 3. Submit Jupiter notebook with all comments and results of discussion at the end of each activity.  \n",
        "#@markdown ---\n",
        "\n",
        "#@markdown ### Enter Participant names\n",
        "Participant_4_Name = \"\" #@param {type:\"string\"} \n",
        "Participant_5_Name = \"\" #@param {type:\"string\"}\n",
        "Participant_6_Name = \"\" #@param {type:\"string\"}\n",
        "Participant_7_Name = \"\" #@param {type:\"string\"}\n",
        "Participant_8_Name = \"\" #@param {type:\"string\"}\n",
        "\n",
        "#@markdown 1.\tParticipates actively in team work to answer all questions.\n",
        "#@markdown 2.\tExecutes the code and shares the comments.\n",
        "#@markdown ---\n"
      ],
      "execution_count": null,
      "outputs": []
    },
    {
      "cell_type": "markdown",
      "metadata": {
        "id": "L3ptjc5MzTkT",
        "colab_type": "text"
      },
      "source": [
        "Mount your Google Drive by running the code below:"
      ]
    },
    {
      "cell_type": "code",
      "metadata": {
        "id": "cGzxRfy8wkBr",
        "colab_type": "code",
        "colab": {}
      },
      "source": [
        "from google.colab import drive\n",
        "drive.mount('/content/drive')"
      ],
      "execution_count": null,
      "outputs": []
    },
    {
      "cell_type": "code",
      "metadata": {
        "id": "wZKeKvW7Vnq-",
        "colab_type": "code",
        "cellView": "form",
        "colab": {}
      },
      "source": [
        "#@title Library Imports\n",
        "import pandas as pd  #imports the \"pandas\" library\n",
        "import matplotlib.pyplot as plt\n",
        "from sklearn.tree import DecisionTreeClassifier, export_graphviz, plot_tree\n",
        "from sklearn.metrics import accuracy_score\n",
        "import numpy as np\n",
        "from IPython.display import SVG, display\n",
        "from graphviz import Source\n",
        "from ipywidgets import interactive, fixed\n",
        "from sklearn.metrics import confusion_matrix\n",
        "\n",
        "from sklearn import tree"
      ],
      "execution_count": null,
      "outputs": []
    },
    {
      "cell_type": "code",
      "metadata": {
        "id": "6C7vlhwtVl9F",
        "colab_type": "code",
        "cellView": "form",
        "colab": {}
      },
      "source": [
        "#@title Helper Functions\n",
        "def getColumnIndex(table, col):\n",
        "    headers = table.columns.values.tolist()\n",
        "    index = headers.index(col)\n",
        "    return(index)\n",
        "\n",
        "def calculateConfusionMatrix(table, col1, col2, pos_value=1, neg_value=0, true_pos_value=1, true_neg_value=0):\n",
        "    #Note: col2 MUST be the true values, or this will be backwards.\n",
        "    truePositive= 0\n",
        "    trueNegative = 0\n",
        "    falsePositive = 0\n",
        "    falseNegative = 0\n",
        "    col1_index = getColumnIndex(table, col1)\n",
        "    col2_index = getColumnIndex(table, col2)\n",
        "    for i in range(len(table)):\n",
        "        if table.iloc[i,col1_index] == pos_value and table.iloc[i,col2_index] == true_pos_value:\n",
        "            truePositive += 1\n",
        "        elif table.iloc[i,col1_index] == pos_value and table.iloc[i,col2_index] == true_neg_value:\n",
        "            falsePositive += 1\n",
        "        elif table.iloc[i,col1_index] == neg_value and table.iloc[i,col2_index] == true_pos_value:\n",
        "            falseNegative += 1\n",
        "        elif table.iloc[i,col1_index] == neg_value and table.iloc[i,col2_index] == true_neg_value:\n",
        "            trueNegative += 1             \n",
        "    return(truePositive, falsePositive, trueNegative, falseNegative)\n",
        "\n",
        "def calculateImpurity2(table, col1, col2, pos_value=1, neg_value=0, true_pos_value=1, true_neg_value=0):\n",
        "    # NOTE. Col2 must be the ground truth or this will be backwards\n",
        "    \n",
        "    truePositive, falsePositive, trueNegative, falseNegative = calculateConfusionMatrix(table, col1, col2, pos_value, neg_value, true_pos_value, true_neg_value)\n",
        "    total = truePositive + trueNegative + falsePositive + falseNegative\n",
        "\n",
        "    if (truePositive + falsePositive) > 0:\n",
        "        impurityLeft = 1 - pow(truePositive/(truePositive + falsePositive),2) - pow(falsePositive/(truePositive + falsePositive),2)\n",
        "    else:\n",
        "        impurityLeft = 0\n",
        "    if (trueNegative + falseNegative) > 0:   \n",
        "        impurityRight = 1 - pow(falseNegative/(falseNegative + trueNegative),2) - pow(trueNegative/(falseNegative + trueNegative),2) \n",
        "    else:\n",
        "        impurityRight = 0\n",
        "    \n",
        "    if total > 0:\n",
        "        impurity = impurityLeft*((truePositive+falsePositive)/total) + impurityRight*((trueNegative+falseNegative)/total)\n",
        "    else:\n",
        "        print(\"you messed up somewhere\")\n",
        "        return()\n",
        "    print (\"impurityLeft:  \",impurityLeft)\n",
        "    print (\"impurityRight:  \",impurityRight)\n",
        "    print (\"total :  \", impurity)\n",
        "    return (impurity)\n",
        "\n",
        "def calculateImpurity(table, col1, col2, pos_value=1, neg_value=0, true_pos_value=1, true_neg_value=0):\n",
        "    # NOTE. Col2 must be the ground truth or this will be backwards\n",
        "    \n",
        "    truePositive, falsePositive, trueNegative, falseNegative = calculateConfusionMatrix(table, col1, col2, pos_value, neg_value, true_pos_value, true_neg_value)\n",
        "    total = truePositive + trueNegative + falsePositive + falseNegative\n",
        "\n",
        "    if (truePositive + falsePositive) > 0:\n",
        "        impurityLeft = 1 - pow(truePositive/(truePositive + falsePositive),2) - pow(falsePositive/(truePositive + falsePositive),2)\n",
        "    else:\n",
        "        impurityLeft = 0\n",
        "    if (trueNegative + falseNegative) > 0:   \n",
        "        impurityRight = 1 - pow(falseNegative/(falseNegative + trueNegative),2) - pow(trueNegative/(falseNegative + trueNegative),2) \n",
        "    else:\n",
        "        impurityRight = 0\n",
        "    \n",
        "    if total > 0:\n",
        "        impurityBefore = 1 - pow((truePositive+falsePositive)/total,2) - pow((trueNegative+falseNegative)/total,2)\n",
        "        impurityAfter = impurityLeft*((truePositive+falsePositive)/total) + impurityRight*((trueNegative+falseNegative)/total)\n",
        "    else:\n",
        "        return()\n",
        "#    print (\"impurity Initial:  {:.3f}\".format(impurityBefore))\n",
        "    print (\"impurity Local:  {:.3f}\".format(impurityLeft))\n",
        "    print (\"impurity Visitor:  {:.3f}\".format(impurityRight))\n",
        "#    print (\"impurity Total :  {:.3f}\".format( impurityAfter))\n",
        "    return (impurityRight, impurityLeft, impurityAfter)\n",
        "\n",
        "\n",
        "\n",
        "def decisionTreeForPredictor(table_train, col, label_col):\n",
        "    # load dataset\n",
        "    indexList = []\n",
        "    index = getColumnIndex(table_train, col)\n",
        "    indexList.append(index)\n",
        "    # feature matrix\n",
        "    X_train = table_train.iloc[:,[index]]\n",
        "\n",
        "    labelIndex = getColumnIndex(table_train, label_col)\n",
        "    # target vector\n",
        "    y_train = table_train.iloc[:,labelIndex]\n",
        "\n",
        "    # feature labels\n",
        "    labels = table_train.columns[indexList].values.tolist()\n",
        "\n",
        "    estimator = plot_tree_graphviz_no_test(X_train, y_train, labels, split=\"best\", depth=4, min_split=0.1, min_leaf=0.2)\n",
        "\n",
        "\n",
        "def selectRowsCondition(table, columnName, operator, value):\n",
        "    \n",
        "    operatorList = ['>', '<', '='] \n",
        "    if operator not in operatorList:\n",
        "        print(\"Please use one of the following operators. ['>', '<', '='] \")\n",
        "        newTable = table\n",
        "\n",
        "    else:\n",
        "        if operator == '>':\n",
        "            condition = (table[columnName] > value)\n",
        "        elif operator == '<':\n",
        "            condition = (table[columnName] < value)\n",
        "        else:\n",
        "            condition = (table[columnName] == value)\n",
        "        newTable = table[condition]\n",
        "\n",
        "        if newTable.empty:\n",
        "            print(\"you dont need go any further\")\n",
        "    return (newTable)\n",
        "\n",
        "def plot_tree_graphviz(xtrain, xtest, ytrain, ytest, labels, split, depth, min_split, min_leaf=0.2):\n",
        "\n",
        "    estimator = DecisionTreeClassifier(random_state = 0, \n",
        "          criterion = \"gini\",\n",
        "          splitter = split,\n",
        "          max_depth = depth,\n",
        "          min_samples_split=min_split,\n",
        "          min_samples_leaf=min_leaf)\n",
        "    estimator.fit(xtrain, ytrain)\n",
        "    \n",
        "    predictions = estimator.predict(xtest)\n",
        "    score = accuracy_score(ytest, predictions)\n",
        "    \n",
        "    print('Accuracy score: {}'.format(score))\n",
        "    \n",
        "    graph = Source(tree.export_graphviz(estimator,\n",
        "      out_file=None,\n",
        "      feature_names=labels,\n",
        "      class_names=['Visitor', 'Local'],\n",
        "      filled = True))\n",
        "    display(SVG(graph.pipe(format='svg')))\n",
        "    return estimator\n",
        "\n",
        "def plot_tree_graphviz_no_test(xtrain, ytrain, labels, split, depth, min_split, min_leaf=0.2):\n",
        "\n",
        "    estimator = DecisionTreeClassifier(random_state = 0, \n",
        "          criterion = \"gini\",\n",
        "          splitter = split,\n",
        "          max_depth = depth,\n",
        "          min_samples_split=min_split,\n",
        "          min_samples_leaf=min_leaf)\n",
        "    estimator.fit(xtrain, ytrain)\n",
        "            \n",
        "    graph = Source(tree.export_graphviz(estimator,\n",
        "      out_file=None,\n",
        "      feature_names=labels,\n",
        "      class_names=['Visitor', 'Local'],\n",
        "      filled = True))\n",
        "    display(SVG(graph.pipe(format='svg')))\n",
        "    return estimator\n",
        "\n",
        "def plot_tree_graphviz_selectColumns(train, test, cols, split, depth, min_split, min_leaf=0.2):\n",
        "  \n",
        "  indexList = []\n",
        "  for element in cols:\n",
        "    index = getColumnIndex(train, element)\n",
        "    indexList.append(index)\n",
        "\n",
        "  xtrain = train.iloc[:,indexList]\n",
        "  xtest = test.iloc[:, indexList]\n",
        "  ytrain = train.iloc[:,3]\n",
        "  ytest = test.iloc[:,3]\n",
        "\n",
        "  labels = train.columns[indexList].values.tolist()\n",
        "\n",
        "  estimator = DecisionTreeClassifier(random_state = 0, \n",
        "        criterion = \"gini\",\n",
        "        splitter = split,\n",
        "        max_depth = depth,\n",
        "        min_samples_split=min_split,\n",
        "        min_samples_leaf=min_leaf)\n",
        "  estimator.fit(xtrain, ytrain)\n",
        "  \n",
        "  predictions = estimator.predict(xtest)\n",
        "  score = accuracy_score(ytest, predictions)\n",
        "  \n",
        "  print('Accuracy score: {}'.format(score))\n",
        "  \n",
        "  graph = Source(tree.export_graphviz(estimator,\n",
        "    out_file=None,\n",
        "    feature_names=labels,\n",
        "    class_names=['Visitor', 'Local'],\n",
        "    filled = True))\n",
        "  display(SVG(graph.pipe(format='svg')))\n",
        "  return estimator\n"
      ],
      "execution_count": null,
      "outputs": []
    },
    {
      "cell_type": "markdown",
      "metadata": {
        "id": "FnjeuzFszg8g",
        "colab_type": "text"
      },
      "source": [
        "# Activity 1. Decisions based on Decision Trees"
      ]
    },
    {
      "cell_type": "markdown",
      "metadata": {
        "id": "4tkqF7CXwb_R",
        "colab_type": "text"
      },
      "source": [
        "## Activity 1 Practical Problem:\n",
        "\n",
        "You are a new city employee who needs to  differentiate between local and visiting vehicles  based on information about  the frequent stops,  left turns, and slow speed of each vehicle.  The previous employee, a human expert in this area, created the decision tree diagram.  Your manager has given you a  sample data set in a tabular form as the file \"vehicles_sample.csv\" to compare the real type of vehicle with the class predicted by the diagram."
      ]
    },
    {
      "cell_type": "markdown",
      "metadata": {
        "id": "KOmRci6FzvaC",
        "colab_type": "text"
      },
      "source": [
        "# Fig 1\n",
        "\n",
        "Consider the following diagram in Fig. 1, and answer questions 1-13:\n",
        "\n",
        "![decision tree fig 1](https://drive.google.com/uc?export=view&id=1DCNZkb8c7e_NMBAmXjaUrJSns33F5iVH)\n",
        "\n",
        "\n"
      ]
    },
    {
      "cell_type": "code",
      "metadata": {
        "id": "auqHE4eOG2Mt",
        "colab_type": "code",
        "cellView": "form",
        "colab": {}
      },
      "source": [
        "#@title Activity 1 Questions part 1\n",
        "#@markdown 1. The diagram is a decision tree (it is actually an upside-down tree). All boxes are referred to as nodes. How many nodes do we have in this diagram?\n",
        "activity1_answer1 = \"\" #@param {type:\"string\"}\n",
        "#@markdown 2. We refer to the single node on the top of the diagram as root. Decision trees are usually multi-level. We start counting from the top of diagram but do not include root. How many levels of decision tree do we have?\n",
        "activity1_answer2 = \"\" #@param {type:\"string\"}\n",
        "#@markdown 3. The nodes can be connected to other nodes on a lower level. How many such nodes are in this diagram?\n",
        "activity1_answer3 = \"\" #@param {type:\"string\"}\n",
        "#@markdown 4. The connections are called branches of the tree.  How many branches are in this diagram?\n",
        "activity1_answer4 = \"\" #@param {type:\"string\"}\n",
        "#@markdown 5. Nodes that grow two branches (\"Yes\" and \"No\") are called decision boxes. They represent a selection condition of the vehicles. What is the selection condition for the decision box in the root?\n",
        "activity1_answer5 = \"\" #@param {type:\"string\"}\n",
        "#@markdown 6. We refer to selection condition also as \"predictor\" since we use them for predictions.  How many predictors do we use in this diagram?\n",
        "activity1_answer6 = \"\" #@param {type:\"string\"}\n",
        "#@markdown 7. The nodes that do not grow any branches are called \"leaves\" and represent classes of vehicles. How many leaves do we have in the diagram?\n",
        "activity1_answer7 = \"\" #@param {type:\"string\"}\n",
        "#@markdown 8. Is the number of leaves in the decision tree the same as number of classes? Why?\n",
        "activity1_answer8 = \"\" #@param {type:\"string\"}\n",
        "#@markdown 9. Our decision process always starts from the root level. What predictor do we use first in our decision process?\n",
        "activity1_answer9 = \"\" #@param {type:\"string\"}\n",
        "#@markdown 10. Is it possible to make a decision about the class of the vehicle if we know only that the vehicle made less than 3 stops? If yes what would be the class name?\n",
        "activity1_answer10 = \"\" #@param {type:\"string\"}\n",
        "#@markdown 11. Is it possible to make a decision about the class of the vehicle if we know only that the vehicle made 3 or more stops?\n",
        "activity1_answer11 = \"\" #@param {type:\"string\"}\n",
        "#@markdown 12. Is it possible to make a decision about the class of the vehicle when all three predictors of the vehicle have the value of \"No\"? If yes what would be the class name? \n",
        "activity1_answer12 = \"\" #@param {type:\"string\"}\n",
        "#@markdown 13. Do we always need to check three predictors to determine the class of the vehicle?\n",
        "activity1_answer13 = \"\" #@param {type:\"string\"}\n",
        "#@markdown 14.  There is a  sample data in a tabular form as the file \"vehicles_logical_sample.csv\". Run the code below to see the sample of data. "
      ],
      "execution_count": null,
      "outputs": []
    },
    {
      "cell_type": "code",
      "metadata": {
        "id": "1rz2KuMQGEHg",
        "colab_type": "code",
        "cellView": "form",
        "colab": {}
      },
      "source": [
        "#@title #Code for Activity 1, Question 14\n",
        "\n",
        "Vehicles_Logical_Sample = pd.read_csv(\"/content/drive/My Drive/Colab Notebooks/Decision Trees/vehicles_logical_sample.csv\")\n",
        "display(Vehicles_Logical_Sample)"
      ],
      "execution_count": null,
      "outputs": []
    },
    {
      "cell_type": "code",
      "metadata": {
        "id": "KJ9CvEiBKqSZ",
        "colab_type": "code",
        "cellView": "form",
        "colab": {}
      },
      "source": [
        "#@title Activity 1 Questions part 2\n",
        "#@markdown 15.\tThe vehicles are numbered starting from 0 through 4. How many vehicles are in the data sample?\n",
        "activity1_answer15 = \"\" #@param {type:\"string\"}\n",
        "#@markdown 16. The actual (real) class name is provided for each vehicle in the \"Vehicle\"  column. Why this column is also called \"the label\"?\n",
        "activity1_answer16 = \"\" #@param {type:\"string\"}\n",
        "#@markdown 17. Is the prediction of the decision tree the same as label for vehicle number 0?\n",
        "activity1_answer17 = \"\" #@param {type:\"string\"}\n",
        "#@markdown 18.\tLet us consider the vehicle number 3. Is the prediction of the decision tree the same as label?\n",
        "activity1_answer18 = \"\" #@param {type:\"string\"}\n",
        "#@markdown 19.\tAre there any other vehicles  classified incorrectly by the decision tree in Fig. 1?\n",
        "activity1_answer19 = \"\" #@param {type:\"string\"}\n",
        "#@markdown 20.  In the next section we will discover how to build the decision tree based on scientific approach. Can we always create a perfect decision tree i.e. the decision tree that would correctly classify all of the vehicles? Why?\n",
        "activity1_answer20 = \"\" #@param {type:\"string\"}"
      ],
      "execution_count": null,
      "outputs": []
    },
    {
      "cell_type": "code",
      "metadata": {
        "id": "Ca-MCoAXMGZc",
        "colab_type": "code",
        "cellView": "form",
        "colab": {}
      },
      "source": [
        "#@title #Team Work Evaluation for Activity 1\n",
        "#@markdown 1.\tHow much time was required for completion of Activity 1?\n",
        "activity1_evaluation1 = \"\" #@param {type:\"string\"}\n",
        "#@markdown 2.\tWas the contribution from each participant equal?\t\n",
        "activity1_evaluation2 = \"\" #@param {type:\"string\"}\n",
        "#@markdown 3.\tHow many participants thought the problems were too simple (trivial)? \n",
        "activity1_evaluation3 = \"\" #@param {type:\"string\"}\n",
        "#@markdown 4.\tHow many participants thought the problems were at the proper level of difficulty?\t\n",
        "activity1_evaluation4 = \"\" #@param {type:\"string\"}\n",
        "#@markdown 5.\tHow many participants thought the problems were too hard?\n",
        "activity1_evaluation5 = \"\" #@param {type:\"string\"}\n",
        "#@markdown 6.\tWas help needed. Where?\n",
        "activity1_evaluation6 = \"\" #@param {type:\"string\"}\n",
        "#@markdown 7.\tHow could the team work and learn more effectively?\n",
        "activity1_evaluation7 = \"\" #@param {type:\"string\"} "
      ],
      "execution_count": null,
      "outputs": []
    },
    {
      "cell_type": "markdown",
      "metadata": {
        "id": "_ZdciI4UPSJY",
        "colab_type": "text"
      },
      "source": [
        "# Activity 2. Choosing Predictors for Decision Trees\n",
        "\n",
        "\n"
      ]
    },
    {
      "cell_type": "markdown",
      "metadata": {
        "id": "oOpFg2hLQQQm",
        "colab_type": "text"
      },
      "source": [
        "## Activity 2 Practical Problem:\n",
        "You, a city employee, would like to use a scientific method to evaluate predictors to see if we can use them to construct a better decision tree.\n",
        "\n"
      ]
    },
    {
      "cell_type": "markdown",
      "metadata": {
        "id": "nDXn2hrk5WuF",
        "colab_type": "text"
      },
      "source": [
        "1. Let us analyze each predictor separately and discover how well it predicts. First let us consider the “Frequent stops” predictor. Run the code below to see only the relevant part of the sample of data. "
      ]
    },
    {
      "cell_type": "code",
      "metadata": {
        "id": "eO4rPHUxNfRs",
        "colab_type": "code",
        "cellView": "form",
        "colab": {}
      },
      "source": [
        "#@title #Code for Activity 2, Question 1\n",
        "Vehicles_Logical_Sample[['Stops < 3', 'Vehicle']]"
      ],
      "execution_count": null,
      "outputs": []
    },
    {
      "cell_type": "code",
      "metadata": {
        "id": "Zg7fZ04QRSM9",
        "colab_type": "code",
        "cellView": "form",
        "colab": {}
      },
      "source": [
        "#@title # Activity 2 Questions part 1\n",
        "#@markdown 2.\tHow many vehicles made less than 3 stops?\n",
        "activity2_answer2 = \"\" #@param {type:\"string\"} \n",
        "#@markdown 3.\tHow many vehicles made 3 or more stops?\n",
        "activity2_answer3 = \"\" #@param {type:\"string\"} "
      ],
      "execution_count": null,
      "outputs": []
    },
    {
      "cell_type": "markdown",
      "metadata": {
        "id": "BQDGUUKXSgjQ",
        "colab_type": "text"
      },
      "source": [
        "## Fig 2\n",
        "# New Section\n",
        "Consider the following diagram in Fig. 2, and answer questions 4-40:\n",
        "\n",
        "![decision tree fig 2](https://drive.google.com/uc?export=view&id=1hNQPJDeqmZ_RSdnKlGv99e7LHVC5axCS)\n",
        "\n"
      ]
    },
    {
      "cell_type": "code",
      "metadata": {
        "id": "atUXsiSlSfzY",
        "colab_type": "code",
        "cellView": "form",
        "colab": {}
      },
      "source": [
        "#@title # Activity 2 Questions part 2\n",
        "#@markdown 4. Let us build a decision tree consisting of  only one predictor \"Stops < 3\"  as shown in Fig.2.  We added the line \"samples\" in Fig.2 to indicate how many vehicles are considered in each node. In the root we have 5 vehicles to split between two branches based on the prediction. What are the values of the line \"samples\" in the leaf nodes?\n",
        "activity2_answer4 = \"\" #@param {type:\"string\"} \n",
        "#@markdown 5.\tWould we correctly predict the vehicle class if we have only information about vehicles frequent stops? How many times would the prediction be correct?\n",
        "activity2_answer5 = \"\" #@param {type:\"string\"} \n",
        "#@markdown 6. How many times would the prediction be incorrect?\n",
        "activity2_answer6 = \"\" #@param {type:\"string\"} \n",
        "#@markdown 7.\tAs we discovered, we would have correct and incorrect predictions when using the single predictor \"Stops < 3\". Let us look only at vehicles that have “Yes” value for this feature. How many times would the prediction be correct? \n",
        "activity2_answer7 = \"\" #@param {type:\"string\"} \n",
        "#@markdown 8. When the prediction matches the true value, we call this subset “true positives”. The subset when the prediction incorrectly makes a positive prediction is called “false positives”. How many  “false positives” do we have? \n",
        "activity2_answer8 = \"\" #@param {type:\"string\"} \n",
        "#@markdown 9. We can use the decision tree diagrams to record the subset sizes in Fig.2. The numbers in the line \"value\" of the \"Visitor\" node describe  “true positives” and “false positives”. Are these numbers the same as your answer?\n",
        "activity2_answer9 = \"\" #@param {type:\"string\"} \n",
        "#@markdown 10. Let us look only at vehicles that have “No” value for this feature. How many times would the prediction be correct? \n",
        "activity2_answer10 = \"\" #@param {type:\"string\"} \n",
        "#@markdown 11.\tWe call this vehicle subset “true negatives”. The prediction can be also incorrect. This subset is called “false negatives”. How many  “false negatives” do we have? \n",
        "activity2_answer11 = \"\" #@param {type:\"string\"} \n",
        "#@markdown 12. Similarly we can record “true negatives” and “false negatives” subset sizes as shown in the node Local in Fig.3. Are they the same as your answers?\n",
        "activity2_answer12 = \"\" #@param {type:\"string\"} \n",
        "#@markdown 13. When the single predictor has larger subsets of \"true positive\" and  \"true negative\" then the prediction is better or worse? Choose the best answer.\n",
        "activity2_answer13 = \"Better\" #@param [\"Better\", \"Worse\"]\n",
        "#@markdown 14. For larger data sets we use computing functions to get these numbers. Run the code below"
      ],
      "execution_count": null,
      "outputs": []
    },
    {
      "cell_type": "code",
      "metadata": {
        "id": "Gzazt9KCUz5o",
        "colab_type": "code",
        "cellView": "form",
        "colab": {}
      },
      "source": [
        "#@title Code for Activity 2 part 2, Question 14\n",
        "true_positive, false_positive, true_negative, false_negative = calculateConfusionMatrix(Vehicles_Logical_Sample, \n",
        "                                                'Stops < 3', 'Vehicle', 'Yes', 'No', 'Local', 'Visitor')\n",
        "print( \"Metrics for Stops < 3\")\n",
        "print ('True positives: {}'.format(true_positive))\n",
        "print ('False positives: {}'.format(false_positive))\n",
        "print ('True negatives: {}'.format(true_negative))\n",
        "print ('False negatives: {}'.format(false_negative))"
      ],
      "execution_count": null,
      "outputs": []
    },
    {
      "cell_type": "code",
      "metadata": {
        "id": "qWLk_ifxWMZ1",
        "colab_type": "code",
        "cellView": "form",
        "colab": {}
      },
      "source": [
        "#@title # Activity 2 Questions part 3\n",
        "#@markdown 15. Are the computed values the same as in Fig.2? If different, ask the instructor for help.\n",
        "activity2_answer15 = \"\" #@param {type:\"string\"} \n",
        "#@markdown 16. We are using sample of data to \"learn\" the best decision tree. When we want to apply the decision tree to to different data sample we can only refer to probabilities of belonging to these subsets. In our  case expected probability of being \"true positive\" in the left node will be 2/3 = 0.66. What is the probability of being \"false positive\" in the left node ?\n",
        "activity2_answer16 = \"\" #@param {type:\"string\"} \n",
        "#@markdown 17. What is the probability of being \"true negative\" in the right node ?\n",
        "activity2_answer17 = \"\" #@param {type:\"string\"} \n",
        "#@markdown 18. What is the probability of being \"false negative\" in the right node \"?\n",
        "activity2_answer18 = \"\" #@param {type:\"string\"} \n",
        "#@markdown 19. Having higher the probabilities of \"true positive\" and \"true negative\" allows the decision tree to make a better classification.   The mathematical function that captures this is gini impurity formula.  It  subtructs from 1 the sum of squares of all probabilities. In our case for the left node (Local class)  is 1 - (0.75^2 + 0.25^2) = 0.444. Compute the value of gini impurity for right node (Value class)  \n",
        "activity2_answer19 = \"\" #@param {type:\"string\"} \n",
        "#@markdown 20. Gini impurity can be between 0 and 1. The \"Visitor\" node contains vehicles perfectly classified. What is the meaning of 0 for gini impurity?\n",
        "activity2_answer20 = \"\" #@param {type:\"string\"} \n",
        "#@markdown 21. For larger data sets we use computing functions to get the gini impurity. Run the code below"
      ],
      "execution_count": null,
      "outputs": []
    },
    {
      "cell_type": "code",
      "metadata": {
        "id": "FMlA45y_XetT",
        "colab_type": "code",
        "cellView": "form",
        "colab": {}
      },
      "source": [
        "#@title Code for Activity 2 part3, Question 21\n",
        "print (\"gini impurity for Stops < 3\" )\n",
        "giniImpurity = calculateImpurity(Vehicles_Logical_Sample, 'Stops < 3', 'Vehicle', \"Yes\", \"No\", 'Visitor', 'Local')"
      ],
      "execution_count": null,
      "outputs": []
    },
    {
      "cell_type": "code",
      "metadata": {
        "id": "Z-3JZRTKXjvu",
        "colab_type": "code",
        "cellView": "form",
        "colab": {}
      },
      "source": [
        "#@title # Activity 2 Questions part 4\n",
        "#@markdown 22. Did you get the same values of all gini impurities? \n",
        "activity2_answer22 = \"\" #@param {type:\"string\"} \n",
        "#@markdown 23.  We can use use a machine learning algorithm to create a decision tree diagram for the \"Stops < 3\" predictor and show gini impurity. In order to do this, we need to convert all \"Yes\" and \"No\" into binary 1 and 0. Run the code below to see the initial and converted table."
      ],
      "execution_count": null,
      "outputs": []
    },
    {
      "cell_type": "code",
      "metadata": {
        "id": "Q4gwjLWGYZ-p",
        "colab_type": "code",
        "cellView": "form",
        "colab": {}
      },
      "source": [
        "#@title Code for Activity 2 part 4, Question 23\n",
        "\n",
        "Vehicles_Binary_Sample = pd.read_csv(\"/content/drive/My Drive/Colab Notebooks/Decision Trees/vehicles_binary_sample.csv\")\n",
        "\n",
        "display(Vehicles_Logical_Sample[['Stops < 3', 'Vehicle']])\n",
        "display(Vehicles_Binary_Sample[['Stops', 'Vehicle']])"
      ],
      "execution_count": null,
      "outputs": []
    },
    {
      "cell_type": "code",
      "metadata": {
        "id": "--NqPaCJZeUt",
        "colab_type": "code",
        "cellView": "form",
        "colab": {}
      },
      "source": [
        "#@title # Activity 2 Questions part 5\n",
        "#@markdown 25.  Based on the data above above, would we correctly predict the vehicle class if we have only information about vehicles 'Stops < 3' ? \n",
        "activity2_answer25 = \"\" #@param {type:\"string\"}\n",
        "#@markdown 26.  How many times would  the prediction be correct?   \n",
        "activity2_answer26 = \"\" #@param {type:\"string\"} \n",
        "#@markdown 27.\tHow many times would the prediction be  incorrect?\n",
        "activity2_answer27 = \"\" #@param {type:\"string\"} \n",
        "#@markdown 28. Compute gini impurities for this predictor with two nodes. \n",
        "activity2_answer28 = \"\" #@param {type:\"string\"} \n",
        "#@markdown 29. Let us generate decision tree using machine learning code  for the single predictor 'Stops < 3'. Run the code below to see the gini impurities for this predictor."
      ],
      "execution_count": null,
      "outputs": []
    },
    {
      "cell_type": "code",
      "metadata": {
        "id": "9JdR4CqBYk7d",
        "colab_type": "code",
        "cellView": "form",
        "colab": {}
      },
      "source": [
        "#@title Code for Activity 2 part 5, Question 29\n",
        "col_name = 'Stops'\n",
        "label_name = 'Vehicle'\n",
        "table = Vehicles_Binary_Sample\n",
        "decisionTreeForPredictor(table_train=table, col=col_name, label_col=label_name)"
      ],
      "execution_count": null,
      "outputs": []
    },
    {
      "cell_type": "code",
      "metadata": {
        "id": "H7duRp_qa5TN",
        "colab_type": "code",
        "cellView": "form",
        "colab": {}
      },
      "source": [
        "#@title # Activity 2 Questions part 6\n",
        "#@markdown 30. Looking at the generated diagram above you can see all important numbers included i.e. gini impurities. Did you get the same gini numbers before? \n",
        "activity2_answer30 = \"\" #@param {type:\"string\"}\n",
        "#@markdown 31. The are also small differences in formating the generated diagram in comparison to our Fig. 2. The order of numbers representing the sizes of vehicles subsets might be reversed depending on the parent node. However, the more significant problem with automatically generated diagram is that it does not show the total gini impurity. The total gini impurity is important since it captures overall \"value\" of the predictor. It can be computed by the weighted average of impurities of each branch node. Run the code below."
      ],
      "execution_count": null,
      "outputs": []
    },
    {
      "cell_type": "code",
      "metadata": {
        "id": "0O8Is0aWbqA5",
        "colab_type": "code",
        "cellView": "form",
        "colab": {}
      },
      "source": [
        "#@title Code for Activity 2 part 6, Question 31\n",
        "pos_value = 1\n",
        "neg_value = 0\n",
        "true_pos_value = 'Local'\n",
        "true_neg_value = 'Visitor'\n",
        "col_name=\"Stops\"\n",
        "impurityLeft, impurityRight, impurityAfter = calculateImpurity(table, col_name, label_name, pos_value, neg_value, true_pos_value, true_neg_value)\n",
        "print (\"impurity total for the predictor 'Stops < 3': \", impurityAfter  )"
      ],
      "execution_count": null,
      "outputs": []
    },
    {
      "cell_type": "code",
      "metadata": {
        "id": "LkuYAO3DcLJW",
        "colab_type": "code",
        "cellView": "form",
        "colab": {}
      },
      "source": [
        "#@title # Activity 2 Questions part 7\n",
        "#@markdown 32.\tCompute the total gini impurity by hand. What value did you get?\n",
        "activity2_answer32 = \"\" #@param {type:\"string\"}\n",
        "#@markdown 33. Let us evaluate the\t\"Left turns < 2\" predictor. Run the code below."
      ],
      "execution_count": null,
      "outputs": []
    },
    {
      "cell_type": "code",
      "metadata": {
        "id": "BrNWl8zbcbyT",
        "colab_type": "code",
        "cellView": "form",
        "colab": {}
      },
      "source": [
        "#@title Code for Activity 2 part 7, Question 33\n",
        "display(Vehicles_Logical_Sample[['Left turns < 2', 'Vehicle']])\n",
        "display(Vehicles_Binary_Sample[['Left turns', 'Vehicle']])"
      ],
      "execution_count": null,
      "outputs": []
    },
    {
      "cell_type": "code",
      "metadata": {
        "id": "EB0KLwdBc-3E",
        "colab_type": "code",
        "cellView": "form",
        "colab": {}
      },
      "source": [
        "#@title # Activity 2 Questions part 8\n",
        "#@markdown 34.  Based on the data above above, would we correctly predict the vehicle class if we have only information about vehicles \"Left turns < 2 \"? How many times would  the prediction be correct?   \n",
        "activity2_answer34 = \"\" #@param {type:\"string\"}\n",
        "#@markdown 35.\tHow many times would the prediction be  incorrect?\n",
        "activity2_answer35 = \"\" #@param {type:\"string\"}\n",
        "#@markdown 36. Compute gini impurities for this predictor with two nodes. \n",
        "activity2_answer36 = \"\" #@param {type:\"string\"}\n",
        "#@markdown 37. Let us generate decision tree using machine learning code  for the single predictor 'Left turns <2'. Run the code below to see the gini impurities for this predictor."
      ],
      "execution_count": null,
      "outputs": []
    },
    {
      "cell_type": "code",
      "metadata": {
        "colab_type": "code",
        "cellView": "form",
        "id": "LRmUWYviHE9k",
        "colab": {}
      },
      "source": [
        "#@title Code for Activity 2 part 8, Question 37\n",
        "col_name = 'Left turns'\n",
        "label_name = 'Vehicle'\n",
        "table = Vehicles_Binary_Sample\n",
        "decisionTreeForPredictor(table_train=table, col=col_name, label_col=label_name)\n",
        "\n",
        "pos_value = 1\n",
        "neg_value = 0\n",
        "true_pos_value = 'Local'\n",
        "true_neg_value = 'Visitor'\n",
        "col_name = 'Left turns'\n",
        "impurityLeft, impurityRight, impurityAfter = calculateImpurity(table, col_name, label_name, pos_value, neg_value, true_pos_value, true_neg_value)\n",
        "print (\"impurity total for the predictor 'Left turns < 2': \", impurityAfter  )"
      ],
      "execution_count": null,
      "outputs": []
    },
    {
      "cell_type": "code",
      "metadata": {
        "id": "aE_1OUCuK70_",
        "colab_type": "code",
        "cellView": "form",
        "colab": {}
      },
      "source": [
        "#@markdown 38. Let us evaluate the\t\"Speed < 20\" predictor. Run the code below."
      ],
      "execution_count": null,
      "outputs": []
    },
    {
      "cell_type": "code",
      "metadata": {
        "id": "-_-PGBXGdn0z",
        "colab_type": "code",
        "cellView": "form",
        "colab": {}
      },
      "source": [
        "#@title Code for Activity 2 part 8, Question 38\n",
        "col_name = 'Speed'\n",
        "label_name = 'Vehicle'\n",
        "table = Vehicles_Binary_Sample\n",
        "decisionTreeForPredictor(table_train=table, col=col_name, label_col=label_name)\n",
        "\n",
        "pos_value = 1\n",
        "neg_value = 0\n",
        "true_pos_value = 'Local'\n",
        "true_neg_value = 'Visitor'\n",
        "col_name = \"Speed\"\n",
        "impurityLeft, impurityRight, impurityAfter = calculateImpurity(table, col_name, label_name, pos_value, neg_value, true_pos_value, true_neg_value)\n",
        "print (\"impurity total for the predictor 'Speed < 20': \", impurityAfter  )"
      ],
      "execution_count": null,
      "outputs": []
    },
    {
      "cell_type": "code",
      "metadata": {
        "id": "8bCS-kGAdtyZ",
        "colab_type": "code",
        "cellView": "form",
        "colab": {}
      },
      "source": [
        "#@title # Activity 2 Questions part 9\n",
        "#@markdown 39. Did you get the same gini impurity as show in the plot above?\n",
        "activity2_answer39 = \"\" #@param {type:\"string\"}\n",
        "#@markdown 40.\tWhat predictor is the best according to gini formula?\n",
        "activity2_answer40 = \"\" #@param {type:\"string\"}"
      ],
      "execution_count": null,
      "outputs": []
    },
    {
      "cell_type": "code",
      "metadata": {
        "id": "p5HFoCgv0Dsq",
        "colab_type": "code",
        "cellView": "form",
        "colab": {}
      },
      "source": [
        "#@title #Team Work Evaluation for Activity 2\n",
        "#@markdown 1.\tHow much time was required for completion of Activity 2?\n",
        "activity2_evaluation1 = \"\" #@param {type:\"string\"}\n",
        "#@markdown 2.\tWas the contribution from each participant equal?\t\n",
        "activity2_evaluation2 = \"\" #@param {type:\"string\"}\n",
        "#@markdown 3.\tHow many participants thought the problems were too simple (trivial)? \n",
        "activity2_evaluation3 = \"\" #@param {type:\"string\"}\n",
        "#@markdown 4.\tHow many participants thought the problems were at the proper level of difficulty?\t\n",
        "activity2_evaluation4 = \"\" #@param {type:\"string\"}\n",
        "#@markdown 5.\tHow many participants thought the problems were too hard?\n",
        "activity2_evaluation5 = \"\" #@param {type:\"string\"}\n",
        "#@markdown 6.\tWas help needed. Where?\n",
        "activity2_evaluation6 = \"\" #@param {type:\"string\"}\n",
        "#@markdown 7.\tHow could the team work and learn more effectively?\n",
        "activity2_evaluation7 = \"\" #@param {type:\"string\"}"
      ],
      "execution_count": null,
      "outputs": []
    },
    {
      "cell_type": "markdown",
      "metadata": {
        "id": "vFeAVzqhfqiS",
        "colab_type": "text"
      },
      "source": [
        "# Activity 3. Building Decision Trees"
      ]
    },
    {
      "cell_type": "code",
      "metadata": {
        "id": "eKy7htAIfpPL",
        "colab_type": "code",
        "cellView": "form",
        "colab": {}
      },
      "source": [
        "#@title # Activity 3 Questions part 1\n",
        "#@markdown 1. Two predictors have the lowest gini impurity. One of them should be chosen and therefore should be used as the root for the decision tree (since the numbers are the same, the choice can be arbitrary). We have chosen \"Stops < 3\" as the decision box at the root. Once we have created the root node we need to decide what two nodes should be connected to it: a class node  or a decision node. Let us first consider the right branch of the root.  We know that all vehicles in the right subset are perfectly classified. In this case should it be a class node or decision box? Why?\n",
        "activity3_answer1 = \"\" #@param {type:\"string\"}\n",
        "#@markdown 2. Let us next consider the right branch of the root.   We know that some vehicles will be misclassified if we terminate the tree with the class node. So we need to connect the root to a decision node. How do we choose the predictor? Would it help if we choose \"Stops < 3\" again\"?\n",
        "activity3_answer2 = \"\" #@param {type:\"string\"}\n",
        "#@markdown 3. Before we decide what predictor to choose let us identify the vehicles that need to be processed in the right subtree. For small samples, this can be done manually, but it will be difficult for larger datasets. To solve that problem, we write code to identify these subsets. Run the code below."
      ],
      "execution_count": null,
      "outputs": []
    },
    {
      "cell_type": "code",
      "metadata": {
        "id": "y3rPivc1hX3-",
        "colab_type": "code",
        "cellView": "form",
        "colab": {}
      },
      "source": [
        "#@title Code for Activity 3 part 1, Question 3\n",
        "rightSample = selectRowsCondition(Vehicles_Logical_Sample, 'Stops < 3', '=', 'No')\n",
        "display(rightSample)\n",
        "\n",
        "rightSample_binary = selectRowsCondition(Vehicles_Binary_Sample, 'Stops', '=', 0)\n",
        "display(rightSample_binary)"
      ],
      "execution_count": null,
      "outputs": []
    },
    {
      "cell_type": "code",
      "metadata": {
        "id": "TVUfE8zRhlGO",
        "colab_type": "code",
        "cellView": "form",
        "colab": {}
      },
      "source": [
        "#@title # Activity 3 Questions part 2\n",
        "#@markdown 4. We now have to recursively apply our \"building one node\" procedure for the resulting subset. Run the code below to reevaluate usefulness of each remaining predictor. Let us start with \"Left turns < 2\"."
      ],
      "execution_count": null,
      "outputs": []
    },
    {
      "cell_type": "code",
      "metadata": {
        "id": "wJxs9wzhh0Qk",
        "colab_type": "code",
        "cellView": "form",
        "colab": {}
      },
      "source": [
        "#@title Code for Activity 3 part 2, Question 4\n",
        "col_name = 'Left turns'\n",
        "label_name = 'Vehicle'\n",
        "table = rightSample_binary\n",
        "\n",
        "pos_value = 1\n",
        "neg_value = 0\n",
        "true_pos_value = 'Local'\n",
        "true_neg_value = 'Visitor'\n",
        "\n",
        "impurityLeft, impurityRight, impurityAfter = calculateImpurity(table, col_name, label_name, pos_value, neg_value, true_pos_value, true_neg_value)\n",
        "print (\"impurity total for the predictor 'Left turns < 2': \", impurityAfter  )\n",
        "decisionTreeForPredictor(table_train=table, col=col_name, label_col=label_name)"
      ],
      "execution_count": null,
      "outputs": []
    },
    {
      "cell_type": "code",
      "metadata": {
        "id": "PGFEBvgQiL4p",
        "colab_type": "code",
        "cellView": "form",
        "colab": {}
      },
      "source": [
        "#@title # Activity 3 Questions part 3\n",
        "#@markdown 5. Did you get the same numbers using hand computations?\n",
        "activity3_answer5 = \"\" #@param {type:\"string\"}\n",
        "#@markdown 6. Let us continue with the \"Left turns < 2\" predictor.Run the code below to reevaluate usefulness of each remaining predictor at this particular part of the tree. "
      ],
      "execution_count": null,
      "outputs": []
    },
    {
      "cell_type": "code",
      "metadata": {
        "id": "4KorcZTwjCfl",
        "colab_type": "code",
        "cellView": "form",
        "colab": {}
      },
      "source": [
        "#@title Code for Activity 3 part 3, Question 6\n",
        "col_name = 'Speed'\n",
        "label_name = 'Vehicle'\n",
        "table = rightSample_binary\n",
        "\n",
        "pos_value = 1\n",
        "neg_value = 0\n",
        "true_pos_value = 'Local'\n",
        "true_neg_value = 'Visitor'\n",
        "\n",
        "impurityLeft, impurityRight, impurityAfter = calculateImpurity(table, col_name, label_name, pos_value, neg_value, true_pos_value, true_neg_value)\n",
        "print (\"impurity total for the predictor 'Speed < 20': \", impurityAfter  )\n",
        "decisionTreeForPredictor(table_train=table, col=col_name, label_col=label_name)"
      ],
      "execution_count": null,
      "outputs": []
    },
    {
      "cell_type": "code",
      "metadata": {
        "id": "qntxzzLYjS8b",
        "colab_type": "code",
        "cellView": "form",
        "colab": {}
      },
      "source": [
        "#@title # Activity 3 Questions part 4\n",
        "#@markdown 7. Are these gini impurities the same as according to your hand computation?\n",
        "activity3_answer7 = \"\" #@param {type:\"string\"}\n",
        "#@markdown 8. Compare the total impurity for both \"Left turns\" and \"Speed < 20\". Since \"Left turns\" predictor has the lower gini impurity, we attach the corresponding decision box as a right node to the root decision box as shown in the plot below. \n",
        "activity3_answer8 = \"\" #@param {type:\"string\"}\n",
        "#@markdown 9. There is an important problem related with the question when to terminate the branches. We discovered already that if for any branch the gini impurity is 0 then we can terminate the branch by the appropriate leaf. The gini value should go lower to indicate improvement. Try to recreate the digrams in the interactive program. Run the code below. "
      ],
      "execution_count": null,
      "outputs": []
    },
    {
      "cell_type": "code",
      "metadata": {
        "id": "zBDY8FSKjZIL",
        "colab_type": "code",
        "cellView": "form",
        "colab": {}
      },
      "source": [
        "#@title Code for Activity 3 part 4, Question 9\n",
        "\n",
        "# feature matrix\n",
        "Vehicles_Binary_Sample_train = Vehicles_Binary_Sample.iloc[:,[0,1,2]]\n",
        "Vehicles_Binary_Sample_test = Vehicles_Binary_Sample.iloc[:,[0,1,2]]\n",
        "\n",
        "# target vector\n",
        "Vehicles_Binary_Sample_train_label = Vehicles_Binary_Sample.iloc[:,3]\n",
        "Vehicles_Binary_Sample_test_label = Vehicles_Binary_Sample.iloc[:,3]\n",
        "\n",
        "# feature labels\n",
        "Vehicles_Binary_Sample_labels = Vehicles_Binary_Sample.columns.values.tolist()[0:3]\n",
        "\n",
        "\n",
        "inter_vehicles_digital_sample = interactive(plot_tree_graphviz,\n",
        "   xtrain = fixed(Vehicles_Binary_Sample_train),\n",
        "   xtest = fixed(Vehicles_Binary_Sample_test),\n",
        "   ytrain = fixed(Vehicles_Binary_Sample_train_label),\n",
        "   ytest = fixed(Vehicles_Binary_Sample_test_label),  \n",
        "   labels = fixed(Vehicles_Binary_Sample_labels), \n",
        "   #crit = [\"gini\", \"entropy\"],\n",
        "   split = [\"best\", \"random\"],\n",
        "   depth=[1,2,3,4],\n",
        "   min_split=(0.1,1),\n",
        "   min_leaf=(0.1,0.5))\n",
        "\n",
        "display(inter_vehicles_digital_sample)"
      ],
      "execution_count": null,
      "outputs": []
    },
    {
      "cell_type": "code",
      "metadata": {
        "id": "PWZy1qC5jZQH",
        "colab_type": "code",
        "cellView": "form",
        "colab": {}
      },
      "source": [
        "#@title # Activity 3 Questions part 5\n",
        "#@markdown 10. Can you recreate the decision tree for the single predictor 'Stops < 3'? What is the accuracy score?\n",
        "activity3_answer10 = \"\" #@param {type:\"string\"}\n",
        "\n",
        "#@markdown 11. Can you recreate the decision tree for the single predictor 'Left turns < 2'? What is the accuracy score?\n",
        "activity3_answer11 = \"\" #@param {type:\"string\"}\n",
        "\n",
        "#@markdown 12. Can you recreate the decision tree for the single predictor 'Speed < 2'? What is the accuracy score?\n",
        "activity3_answer12 = \"\" #@param {type:\"string\"}\n",
        "\n",
        "#@markdown 13. Is a one level tree (root plus its children) sufficient to accurately predict every vehicle?\n",
        "activity3_answer13 = \"\" #@param {type:\"string\"}\n",
        "\n",
        "#@markdown 14. Can you recreate the tree with two predictors. What hyper-parameters (menu and sliders) did you use?\n",
        "activity3_answer14 = \"\" #@param {type:\"string\"}\n",
        "\n",
        "#@markdown 15. Can you create a tree with tree and four levels.  What hyper-parameters (menu and sliders) did you use?\n",
        "activity3_answer15 = \"\" #@param {type:\"string\"}"
      ],
      "execution_count": null,
      "outputs": []
    },
    {
      "cell_type": "code",
      "metadata": {
        "id": "tuzLJ75V0TiJ",
        "colab_type": "code",
        "cellView": "form",
        "colab": {}
      },
      "source": [
        "#@title #Team Work Evaluation for Activity 3\n",
        "#@markdown 1.\tHow much time was required for completion of Activity 3?\n",
        "activity3_evaluation1 = \"\" #@param {type:\"string\"}\n",
        "#@markdown 2.\tWas the contribution from each participant equal?\t\n",
        "activity3_evaluation2 = \"\" #@param {type:\"string\"}\n",
        "#@markdown 3.\tHow many participants thought the problems were too simple (trivial)? \n",
        "activity3_evaluation3 = \"\" #@param {type:\"string\"}\n",
        "#@markdown 4.\tHow many participants thought the problems were at the proper level of difficulty?\t\n",
        "activity3_evaluation4 = \"\" #@param {type:\"string\"}\n",
        "#@markdown 5.\tHow many participants thought the problems were too hard?\n",
        "activity3_evaluation5 = \"\" #@param {type:\"string\"}\n",
        "#@markdown 6.\tWas help needed. Where?\n",
        "activity3_evaluation6 = \"\" #@param {type:\"string\"}\n",
        "#@markdown 7.\tHow could the team work and learn more effectively?\n",
        "activity3_evaluation7 = \"\" #@param {type:\"string\"}"
      ],
      "execution_count": null,
      "outputs": []
    },
    {
      "cell_type": "markdown",
      "metadata": {
        "id": "INqtQdftlEPc",
        "colab_type": "text"
      },
      "source": [
        "# Activity 4. Tuning Decision Trees for large Data Sets"
      ]
    },
    {
      "cell_type": "code",
      "metadata": {
        "id": "RMS59nS0jZT9",
        "colab_type": "code",
        "cellView": "form",
        "colab": {}
      },
      "source": [
        "#@title # Activity 4 Questions part 1\n",
        "#@markdown 1. Let us use two large data sets in files \"vehicles_binary_train.csv\" and \"vehicles_binary_test.csv\". We will use the file with the postfix \"train\" for the algorithm to \"learn\" how to construct the decision tree, and the file with the postfix \"test\" to evaluate the performance of the decision tree. Run the code below to see the tree being created in realtime with a larger dataset."
      ],
      "execution_count": null,
      "outputs": []
    },
    {
      "cell_type": "code",
      "metadata": {
        "id": "VmDnLEWkjZXt",
        "colab_type": "code",
        "cellView": "form",
        "colab": {}
      },
      "source": [
        "#@title Code for Activity 4 part 1, Question 1\n",
        "\n",
        "Vehicles_Binary_Train = pd.read_csv('/content/drive/My Drive/Colab Notebooks/Decision Trees/vehicles_binary_train.csv')\n",
        "print(\"Number of rows in the training set: {}\".format(len(Vehicles_Binary_Train)))\n",
        "Vehicles_Binary_Test = pd.read_csv('/content/drive/My Drive/Colab Notebooks/Decision Trees/vehicles_binary_test.csv')\n",
        "print(\"Number of rows in the testing set: {}\".format(len(Vehicles_Binary_Test)))\n",
        "print()\n",
        "\n",
        "Inter_Vehicles_Binary = interactive(plot_tree_graphviz_selectColumns,\n",
        "   train = fixed(Vehicles_Binary_Train),\n",
        "   test = fixed(Vehicles_Binary_Test), \n",
        "   cols = [['Stops'], ['Left turns'], ['Speed'], ['Stops', 'Left turns'], ['Stops', 'Speed'],['Left turns','Speed'], ['Stops', 'Left turns', 'Speed']],\n",
        "   #crit = [\"gini\", \"entropy\"],\n",
        "   split = [\"best\", \"random\"],\n",
        "   depth=[1,2,3,4],\n",
        "   min_split=(0.1,1),\n",
        "   min_leaf=(0.1,0.5))\n",
        "\n",
        "display(Inter_Vehicles_Binary)"
      ],
      "execution_count": null,
      "outputs": []
    },
    {
      "cell_type": "code",
      "metadata": {
        "id": "Z1bpG2s3jZeW",
        "colab_type": "code",
        "cellView": "form",
        "colab": {}
      },
      "source": [
        "#@title # Activity 4 Questions part 2\n",
        "#@markdown 2. How many rows do we have in the train file?\n",
        "activity4_answer2 = \"\" #@param {type:\"string\"}\n",
        "#@markdown 3. How many rows do we have in the test file?\n",
        "activity4_answer3 = \"\" #@param {type:\"string\"}\n",
        "#@markdown 4. Create the decision tree for the single predictor 'Stops'? What is the accuracy score?\n",
        "activity4_answer4 = \"\" #@param {type:\"string\"}\n",
        "#@markdown 5. Create the decision tree for the single predictor 'Left turns'? What is the accuracy score?\n",
        "activity4_answer5 = \"\" #@param {type:\"string\"}\n",
        "#@markdown 6. Create the decision tree for the single predictor 'Speed'? What is the accuracy score?\n",
        "activity4_answer6 = \"\" #@param {type:\"string\"}\n",
        "#@markdown 7. Is a one level tree (root plus its children) sufficient to accurately predict every vehicle?\n",
        "activity4_answer7 = \"\" #@param {type:\"string\"}\n",
        "#@markdown 8. Create the tree with two predictors \"Stops\" and \"Left turns\". Record your accuracy.\n",
        "activity4_answer8 = \"\" #@param {type:\"string\"}\n",
        "#@markdown 9. Create the tree with two predictors \"Stops\" and \"Left turns\". What hyper-parameters (menu and sliders) did you use?\n",
        "activity4_answer9 = \"\" #@param {type:\"string\"}\n",
        "#@markdown 10. Create the tree with two predictors \"Stops\" and \"Speed\". Record your accuracy.\n",
        "activity4_answer10 = \"\" #@param {type:\"string\"}\n",
        "#@markdown 11. Create the tree with two predictors \"Stops\" and \"Speed\". What hyper-parameters (menu and sliders) did you use?\n",
        "activity4_answer11 = \"\" #@param {type:\"string\"}\n",
        "#@markdown 12. Create the tree with two predictors \"Left turns\" and \"Speed\". Record your accuracy.\n",
        "activity4_answer12 = \"\" #@param {type:\"string\"}\n",
        "#@markdown 13. Create the tree with two predictors \"Left turns\" and \"Speed\". What hyper-parameters (menu and sliders) did you use?\n",
        "activity4_answer13 = \"\" #@param {type:\"string\"}\n",
        "#@markdown 14. Create the tree with three predictors \"Stops\", \"Left turns\" and \"Speed\". Record your accuracy.\n",
        "activity4_answer14 = \"\" #@param {type:\"string\"}\n",
        "#@markdown 15. Create the tree with three predictors \"Stops\", \"Left turns\" and \"Speed\". What hyper-parameters (menu and sliders) did you use?\n",
        "activity4_answer15 = \"\" #@param {type:\"string\"}\n",
        "#@markdown 16. Experiment with the interactive plot above to get a three level tree and try get the highest accuracy. Record your accuracy here.\n",
        "activity4_answer16 = \"\" #@param {type:\"string\"}\n",
        "#@markdown 17. Experiment with the interactive plot above to get a four level tree and try get the highest accuracy. Record your accuracy here.\n",
        "activity4_answer17 = \"\" #@param {type:\"string\"}\n",
        "#@markdown 18. Compare the accuracies of all the trees above. Do they have the same accuracy?  If not, which tree gave the best accuracy?\n",
        "activity4_answer18 = \"\" #@param {type:\"string\"}\n",
        "#@markdown 19. What were the hyperparameters of the best tree?\n",
        "activity4_answer19 = \"\" #@param {type:\"string\"}"
      ],
      "execution_count": null,
      "outputs": []
    },
    {
      "cell_type": "code",
      "metadata": {
        "id": "gCo-7Zip0bvO",
        "colab_type": "code",
        "cellView": "form",
        "colab": {}
      },
      "source": [
        "#@title #Team Work Evaluation for Activity 4\n",
        "#@markdown 1.\tHow much time was required for completion of Activity 4?\n",
        "activity4_evaluation1 = \"\" #@param {type:\"string\"}\n",
        "#@markdown 2.\tWas the contribution from each participant equal?\t\n",
        "activity4_evaluation2 = \"\" #@param {type:\"string\"}\n",
        "#@markdown 3.\tHow many participants thought the problems were too simple (trivial)? \n",
        "activity4_evaluation3 = \"\" #@param {type:\"string\"}\n",
        "#@markdown 4.\tHow many participants thought the problems were at the proper level of difficulty?\t\n",
        "activity4_evaluation4 = \"\" #@param {type:\"string\"}\n",
        "#@markdown 5.\tHow many participants thought the problems were too hard?\n",
        "activity4_evaluation5 = \"\" #@param {type:\"string\"}\n",
        "#@markdown 6.\tWas help needed. Where?\n",
        "activity4_evaluation6 = \"\" #@param {type:\"string\"}\n",
        "#@markdown 7.\tHow could the team work and learn more effectively?\n",
        "activity4_evaluation7 = \"\" #@param {type:\"string\"}"
      ],
      "execution_count": null,
      "outputs": []
    },
    {
      "cell_type": "markdown",
      "metadata": {
        "id": "_3f-lt4Kvzqf",
        "colab_type": "text"
      },
      "source": [
        "# Activity 5. Tuning Decision Trees for Large Data Sets with Numeric Features"
      ]
    },
    {
      "cell_type": "markdown",
      "metadata": {
        "id": "irvMDlP_wPmx",
        "colab_type": "text"
      },
      "source": [
        "## Practical Problem Part 3:\n",
        "\n",
        "#### Now you need to use the large data set with numerical data and to tune the parameters for the best predictors generation usingmachine learning"
      ]
    },
    {
      "cell_type": "code",
      "metadata": {
        "id": "sfZpo-5Xv0oP",
        "colab_type": "code",
        "cellView": "form",
        "colab": {}
      },
      "source": [
        "#@title # Activity 5 Questions part 1\n",
        "#@markdown 1. In this activity, we will use two files that will have numeric values for our features. This will allow the machine learning algorithm to \"learn\" the best predictors. Run the code below."
      ],
      "execution_count": null,
      "outputs": []
    },
    {
      "cell_type": "code",
      "metadata": {
        "id": "TtACThmfv5pM",
        "colab_type": "code",
        "cellView": "form",
        "colab": {}
      },
      "source": [
        "#@title Code for Activity 5 part 1, Question 1\n",
        "Vehicles_Digital_Train = pd.read_csv('/content/drive/My Drive/Colab Notebooks/Decision Trees/vehicles_digital_train.csv')\n",
        "print(\"Number of rows in the testing set: {}\".format(len(Vehicles_Digital_Train)))\n",
        "Vehicles_Digital_Test = pd.read_csv('/content/drive/My Drive/Colab Notebooks/Decision Trees/vehicles_digital_test.csv')\n",
        "print(\"Number of rows in the testing set: {}\".format(len(Vehicles_Digital_Test)))\n",
        "print()\n",
        "\n",
        "\n",
        "Inter_Vehicles_Digital = interactive(plot_tree_graphviz_selectColumns,\n",
        "   train = fixed(Vehicles_Digital_Train),\n",
        "   test = fixed(Vehicles_Digital_Test),\n",
        "   cols = [['Stops'], ['Left turns'], ['Speed'], ['Stops', 'Left turns'], ['Stops', 'Speed'],['Left turns','Speed'], ['Stops', 'Left turns', 'Speed']], \n",
        "   #crit = [\"gini\", \"entropy\"],\n",
        "   split = [\"best\", \"random\"],\n",
        "   depth=[1,2,3,4],\n",
        "   min_split=(0.1,1),\n",
        "   min_leaf=(0.1,0.5))\n",
        "\n",
        "display(Inter_Vehicles_Digital)"
      ],
      "execution_count": null,
      "outputs": []
    },
    {
      "cell_type": "code",
      "metadata": {
        "id": "B__48K69v5tK",
        "colab_type": "code",
        "cellView": "form",
        "colab": {}
      },
      "source": [
        "#@title # Activity 5 Questions part 2\n",
        "#@markdown 2. How many rows do we have in the train file?\n",
        "activity5_answer2 = \"\" #@param {type:\"string\"}\n",
        "#@markdown 3. How many rows do we have in the test file?\n",
        "activity5_answer3 = \"\" #@param {type:\"string\"}\n",
        "#@markdown 4. Create the decision tree for the single predictor 'Stops'? What is the accuracy score?\n",
        "activity5_answer4 = \"\" #@param {type:\"string\"}\n",
        "#@markdown 5. Create the decision tree for the single predictor 'Left turns'? What is the accuracy score?\n",
        "activity5_answer5 = \"\" #@param {type:\"string\"}\n",
        "#@markdown 6. Create the decision tree for the single predictor 'Speed'? What is the accuracy score?\n",
        "activity5_answer6 = \"\" #@param {type:\"string\"}\n",
        "#@markdown 7. Is a one level tree (root plus its children) sufficient to accurately predict every vehicle?\n",
        "activity5_answer7 = \"\" #@param {type:\"string\"}\n",
        "#@markdown 8. Create the tree with two predictors \"Stops\" and \"Left turns\". Record your accuracy.\n",
        "activity5_answer8 = \"\" #@param {type:\"string\"}\n",
        "#@markdown 9. Create the tree with two predictors \"Stops\" and \"Left turns\". What hyper-parameters (menu and sliders) did you use?\n",
        "activity5_answer9 = \"\" #@param {type:\"string\"}\n",
        "#@markdown 10. Create the tree with two predictors \"Stops\" and \"Speed\". Record your accuracy.\n",
        "activity5_answer10 = \"\" #@param {type:\"string\"}\n",
        "#@markdown 11. Create the tree with two predictors \"Stops\" and \"Speed\". What hyper-parameters (menu and sliders) did you use?\n",
        "activity5_answer11 = \"\" #@param {type:\"string\"}\n",
        "#@markdown 12. Create the tree with two predictors \"Left turns\" and \"Speed\". Record your accuracy.\n",
        "activity5_answer12 = \"\" #@param {type:\"string\"}\n",
        "#@markdown 13. Create the tree with two predictors \"Left turns\" and \"Speed\". What hyper-parameters (menu and sliders) did you use?\n",
        "activity5_answer13 = \"\" #@param {type:\"string\"}\n",
        "#@markdown 14. Create the tree with three predictors \"Stops\", \"Left turns\" and \"Speed\". Record your accuracy.\n",
        "activity5_answer14 = \"\" #@param {type:\"string\"}\n",
        "#@markdown 15. Create the tree with three predictors \"Stops\", \"Left turns\" and \"Speed\". What hyper-parameters (menu and sliders) did you use?\n",
        "activity5_answer15 = \"\" #@param {type:\"string\"}\n",
        "#@markdown 16. Experiment with the interactive plot above to get a three level tree and try get the highest accuracy. Record your accuracy here.\n",
        "activity5_answer16 = \"\" #@param {type:\"string\"}\n",
        "#@markdown 17. Experiment with the interactive plot above to get a four level tree and try get the highest accuracy. Record your accuracy here.\n",
        "activity5_answer17 = \"\" #@param {type:\"string\"}\n",
        "#@markdown 18. Compare the accuracies of all the trees above. Do they have the same accuracy?  If not, which tree gave the best accuracy?\n",
        "activity5_answer18 = \"\" #@param {type:\"string\"}\n",
        "#@markdown 19. What were the hyperparameters of the best tree?\n",
        "activity5_answer19 = \"\" #@param {type:\"string\"}\n",
        "#@markdown 20. In the optimal tree, we are using different predictors. These predictors are \"Stops\", \"Left turns\" and \"Speed\", but with different conditions. Previously, the data had been conditioned for you by a human \"expert\". Which predictor set is better?\n",
        "activity5_answer19 = \"\" #@param {type:\"string\"}"
      ],
      "execution_count": null,
      "outputs": []
    },
    {
      "cell_type": "code",
      "metadata": {
        "id": "CWtttduI0mfY",
        "colab_type": "code",
        "cellView": "form",
        "colab": {}
      },
      "source": [
        "#@title #Team Work Evaluation for Activity 5\n",
        "#@markdown 1.\tHow much time was required for completion of Activity 5?\n",
        "activity5_evaluation1 = \"\" #@param {type:\"string\"}\n",
        "#@markdown 2.\tWas the contribution from each participant equal?\t\n",
        "activity5_evaluation2 = \"\" #@param {type:\"string\"}\n",
        "#@markdown 3.\tHow many participants thought the problems were too simple (trivial)? \n",
        "activity5_evaluation3 = \"\" #@param {type:\"string\"}\n",
        "#@markdown 4.\tHow many participants thought the problems were at the proper level of difficulty?\t\n",
        "activity5_evaluation4 = \"\" #@param {type:\"string\"}\n",
        "#@markdown 5.\tHow many participants thought the problems were too hard?\n",
        "activity5_evaluation5 = \"\" #@param {type:\"string\"}\n",
        "#@markdown 6.\tWas help needed. Where?\n",
        "activity5_evaluation6 = \"\" #@param {type:\"string\"}\n",
        "#@markdown 7.\tHow could the team work and learn more effectively?\n",
        "activity5_evaluation7 = \"\" #@param {type:\"string\"}"
      ],
      "execution_count": null,
      "outputs": []
    }
  ]
}